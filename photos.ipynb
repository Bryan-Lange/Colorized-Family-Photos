{
 "cells": [
  {
   "cell_type": "code",
   "execution_count": 7,
   "metadata": {},
   "outputs": [
    {
     "name": "stderr",
     "output_type": "stream",
     "text": [
      "Using TensorFlow backend.\n"
     ]
    }
   ],
   "source": [
    "from keras.layers import Conv2D, UpSampling2D, InputLayer, Conv2DTranspose\n",
    "from keras.layers import Activation, Dense, Dropout, Flatten\n",
    "from keras.layers.normalization import BatchNormalization\n",
    "from keras.models import Sequential\n",
    "from keras.preprocessing.image import ImageDataGenerator, array_to_img, img_to_array, load_img\n",
    "from skimage.color import rgb2lab, lab2rgb, rgb2gray, xyz2lab\n",
    "from skimage.io import imsave\n",
    "import numpy as np\n",
    "import os\n",
    "import random\n",
    "import tensorflow as tf"
   ]
  },
  {
   "cell_type": "code",
   "execution_count": 17,
   "metadata": {},
   "outputs": [],
   "source": [
    "image = img_to_array(load_img('./input_images/10000144A.jpg'))\n",
    "image = np.array(image, dtype=float)"
   ]
  },
  {
   "cell_type": "code",
   "execution_count": 18,
   "metadata": {},
   "outputs": [
    {
     "data": {
      "text/plain": [
       "array([[[ 97.,  91.,  65.],\n",
       "        [147., 141., 115.],\n",
       "        [163., 157., 131.],\n",
       "        ...,\n",
       "        [197., 196., 191.],\n",
       "        [187., 184., 167.],\n",
       "        [186., 183., 166.]],\n",
       "\n",
       "       [[133., 131., 108.],\n",
       "        [183., 181., 158.],\n",
       "        [200., 198., 177.],\n",
       "        ...,\n",
       "        [221., 220., 215.],\n",
       "        [217., 213., 201.],\n",
       "        [216., 212., 200.]],\n",
       "\n",
       "       [[157., 155., 142.],\n",
       "        [209., 207., 194.],\n",
       "        [226., 224., 211.],\n",
       "        ...,\n",
       "        [230., 229., 225.],\n",
       "        [222., 219., 210.],\n",
       "        [220., 217., 208.]],\n",
       "\n",
       "       ...,\n",
       "\n",
       "       [[ 36.,  43.,  49.],\n",
       "        [ 39.,  50.,  52.],\n",
       "        [ 46.,  58.,  54.],\n",
       "        ...,\n",
       "        [221., 217., 208.],\n",
       "        [229., 222., 206.],\n",
       "        [213., 206., 190.]],\n",
       "\n",
       "       [[ 28.,  45.,  55.],\n",
       "        [ 33.,  53.,  60.],\n",
       "        [ 29.,  50.,  51.],\n",
       "        ...,\n",
       "        [220., 216., 207.],\n",
       "        [227., 220., 202.],\n",
       "        [211., 204., 186.]],\n",
       "\n",
       "       [[ 17.,  43.,  56.],\n",
       "        [ 28.,  58.,  68.],\n",
       "        [ 20.,  51.,  56.],\n",
       "        ...,\n",
       "        [219., 215., 206.],\n",
       "        [208., 201., 182.],\n",
       "        [193., 186., 167.]]])"
      ]
     },
     "execution_count": 18,
     "metadata": {},
     "output_type": "execute_result"
    }
   ],
   "source": [
    "image"
   ]
  },
  {
   "cell_type": "code",
   "execution_count": null,
   "metadata": {},
   "outputs": [],
   "source": []
  },
  {
   "cell_type": "code",
   "execution_count": null,
   "metadata": {},
   "outputs": [],
   "source": []
  },
  {
   "cell_type": "code",
   "execution_count": null,
   "metadata": {},
   "outputs": [],
   "source": []
  },
  {
   "cell_type": "code",
   "execution_count": null,
   "metadata": {},
   "outputs": [],
   "source": []
  },
  {
   "cell_type": "code",
   "execution_count": null,
   "metadata": {},
   "outputs": [],
   "source": []
  }
 ],
 "metadata": {
  "kernelspec": {
   "display_name": "Python 3",
   "language": "python",
   "name": "python3"
  },
  "language_info": {
   "codemirror_mode": {
    "name": "ipython",
    "version": 3
   },
   "file_extension": ".py",
   "mimetype": "text/x-python",
   "name": "python",
   "nbconvert_exporter": "python",
   "pygments_lexer": "ipython3",
   "version": "3.7.6"
  }
 },
 "nbformat": 4,
 "nbformat_minor": 4
}
