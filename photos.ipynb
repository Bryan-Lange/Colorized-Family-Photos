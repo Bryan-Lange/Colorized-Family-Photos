{
 "cells": [
  {
   "cell_type": "code",
   "execution_count": null,
   "metadata": {},
   "outputs": [
    {
     "name": "stderr",
     "output_type": "stream",
     "text": [
      "Using TensorFlow backend.\n"
     ]
    }
   ],
   "source": [
    "from keras.layers import Conv2D, UpSampling2D, InputLayer, Conv2DTranspose\n",
    "from keras.layers import Activation, Dense, Dropout, Flatten\n",
    "from keras.layers.normalization import BatchNormalization\n",
    "from keras.models import Sequential\n",
    "from keras.preprocessing.image import ImageDataGenerator, array_to_img, img_to_array, load_img\n",
    "from skimage.color import rgb2lab, lab2rgb, rgb2gray, xyz2lab\n",
    "from skimage.io import imsave\n",
    "import numpy as np\n",
    "import os\n",
    "import random\n",
    "import tensorflow as tf\n",
    "import numpy as np\n",
    "from skimage.io import imread, imshow\n",
    "import matplotlib.pyplot as plt"
   ]
  },
  {
   "cell_type": "code",
   "execution_count": 17,
   "metadata": {},
   "outputs": [],
   "source": [
    "image = img_to_array(load_img('./input_images/10000144A.jpg'))\n",
    "image = np.array(image, dtype=float)"
   ]
  },
  {
   "cell_type": "code",
   "execution_count": 18,
   "metadata": {},
   "outputs": [
    {
     "data": {
      "text/plain": [
       "array([[[ 97.,  91.,  65.],\n",
       "        [147., 141., 115.],\n",
       "        [163., 157., 131.],\n",
       "        ...,\n",
       "        [197., 196., 191.],\n",
       "        [187., 184., 167.],\n",
       "        [186., 183., 166.]],\n",
       "\n",
       "       [[133., 131., 108.],\n",
       "        [183., 181., 158.],\n",
       "        [200., 198., 177.],\n",
       "        ...,\n",
       "        [221., 220., 215.],\n",
       "        [217., 213., 201.],\n",
       "        [216., 212., 200.]],\n",
       "\n",
       "       [[157., 155., 142.],\n",
       "        [209., 207., 194.],\n",
       "        [226., 224., 211.],\n",
       "        ...,\n",
       "        [230., 229., 225.],\n",
       "        [222., 219., 210.],\n",
       "        [220., 217., 208.]],\n",
       "\n",
       "       ...,\n",
       "\n",
       "       [[ 36.,  43.,  49.],\n",
       "        [ 39.,  50.,  52.],\n",
       "        [ 46.,  58.,  54.],\n",
       "        ...,\n",
       "        [221., 217., 208.],\n",
       "        [229., 222., 206.],\n",
       "        [213., 206., 190.]],\n",
       "\n",
       "       [[ 28.,  45.,  55.],\n",
       "        [ 33.,  53.,  60.],\n",
       "        [ 29.,  50.,  51.],\n",
       "        ...,\n",
       "        [220., 216., 207.],\n",
       "        [227., 220., 202.],\n",
       "        [211., 204., 186.]],\n",
       "\n",
       "       [[ 17.,  43.,  56.],\n",
       "        [ 28.,  58.,  68.],\n",
       "        [ 20.,  51.,  56.],\n",
       "        ...,\n",
       "        [219., 215., 206.],\n",
       "        [208., 201., 182.],\n",
       "        [193., 186., 167.]]])"
      ]
     },
     "execution_count": 18,
     "metadata": {},
     "output_type": "execute_result"
    }
   ],
   "source": [
    "image"
   ]
  },
  {
   "cell_type": "code",
   "execution_count": 1,
   "metadata": {},
   "outputs": [],
   "source": [
    "def print_image_summary(image, labels):\n",
    "    \n",
    "    print('--------------')\n",
    "    print('Image Details:')\n",
    "    print('--------------')\n",
    "    print(f'Image dimensions: {image.shape}')\n",
    "    print('Channels:')\n",
    "    \n",
    "    if len(labels) == 1:\n",
    "        image = image[..., np.newaxis]\n",
    "        \n",
    "    for i, lab in enumerate(labels):\n",
    "        min_val = np.min(image[:,:,i])\n",
    "        max_val = np.max(image[:,:,i])\n",
    "        print(f'{lab} : min={min_val:.4f}, max={max_val:.4f}')"
   ]
  },
  {
   "cell_type": "code",
   "execution_count": 2,
   "metadata": {},
   "outputs": [
    {
     "ename": "NameError",
     "evalue": "name 'imread' is not defined",
     "output_type": "error",
     "traceback": [
      "\u001b[1;31m---------------------------------------------------------------------------\u001b[0m",
      "\u001b[1;31mNameError\u001b[0m                                 Traceback (most recent call last)",
      "\u001b[1;32m<ipython-input-2-bf85291e7dd0>\u001b[0m in \u001b[0;36m<module>\u001b[1;34m\u001b[0m\n\u001b[1;32m----> 1\u001b[1;33m \u001b[0mimage_gs\u001b[0m \u001b[1;33m=\u001b[0m \u001b[0mimread\u001b[0m\u001b[1;33m(\u001b[0m\u001b[1;34m'./input_images/10000144A.jpg'\u001b[0m\u001b[1;33m,\u001b[0m \u001b[0mas_gray\u001b[0m\u001b[1;33m=\u001b[0m\u001b[1;32mTrue\u001b[0m\u001b[1;33m)\u001b[0m\u001b[1;33m\u001b[0m\u001b[1;33m\u001b[0m\u001b[0m\n\u001b[0m\u001b[0;32m      2\u001b[0m \u001b[0mfig\u001b[0m\u001b[1;33m,\u001b[0m \u001b[0max\u001b[0m \u001b[1;33m=\u001b[0m \u001b[0mplt\u001b[0m\u001b[1;33m.\u001b[0m\u001b[0msubplots\u001b[0m\u001b[1;33m(\u001b[0m\u001b[0mfigsize\u001b[0m\u001b[1;33m=\u001b[0m\u001b[1;33m(\u001b[0m\u001b[1;36m9\u001b[0m\u001b[1;33m,\u001b[0m \u001b[1;36m16\u001b[0m\u001b[1;33m)\u001b[0m\u001b[1;33m)\u001b[0m\u001b[1;33m\u001b[0m\u001b[1;33m\u001b[0m\u001b[0m\n\u001b[0;32m      3\u001b[0m \u001b[0mimshow\u001b[0m\u001b[1;33m(\u001b[0m\u001b[0mimage_gs\u001b[0m\u001b[1;33m,\u001b[0m \u001b[0max\u001b[0m\u001b[1;33m=\u001b[0m\u001b[0max\u001b[0m\u001b[1;33m)\u001b[0m\u001b[1;33m\u001b[0m\u001b[1;33m\u001b[0m\u001b[0m\n\u001b[0;32m      4\u001b[0m \u001b[0max\u001b[0m\u001b[1;33m.\u001b[0m\u001b[0mset_title\u001b[0m\u001b[1;33m(\u001b[0m\u001b[1;34m'Grayscale image'\u001b[0m\u001b[1;33m)\u001b[0m\u001b[1;33m\u001b[0m\u001b[1;33m\u001b[0m\u001b[0m\n\u001b[0;32m      5\u001b[0m \u001b[0max\u001b[0m\u001b[1;33m.\u001b[0m\u001b[0maxis\u001b[0m\u001b[1;33m(\u001b[0m\u001b[1;34m'off'\u001b[0m\u001b[1;33m)\u001b[0m\u001b[1;33m;\u001b[0m\u001b[1;33m\u001b[0m\u001b[1;33m\u001b[0m\u001b[0m\n",
      "\u001b[1;31mNameError\u001b[0m: name 'imread' is not defined"
     ]
    }
   ],
   "source": [
    "image_gs = imread('./input_images/10000144A.jpg', as_gray=True)\n",
    "fig, ax = plt.subplots(figsize=(9, 16))\n",
    "imshow(image_gs, ax=ax)\n",
    "ax.set_title('Grayscale image')\n",
    "ax.axis('off');"
   ]
  },
  {
   "cell_type": "code",
   "execution_count": null,
   "metadata": {},
   "outputs": [],
   "source": []
  },
  {
   "cell_type": "code",
   "execution_count": null,
   "metadata": {},
   "outputs": [],
   "source": []
  },
  {
   "cell_type": "code",
   "execution_count": null,
   "metadata": {},
   "outputs": [],
   "source": []
  }
 ],
 "metadata": {
  "kernelspec": {
   "display_name": "Python 3",
   "language": "python",
   "name": "python3"
  },
  "language_info": {
   "codemirror_mode": {
    "name": "ipython",
    "version": 3
   },
   "file_extension": ".py",
   "mimetype": "text/x-python",
   "name": "python",
   "nbconvert_exporter": "python",
   "pygments_lexer": "ipython3",
   "version": "3.7.6"
  }
 },
 "nbformat": 4,
 "nbformat_minor": 4
}
